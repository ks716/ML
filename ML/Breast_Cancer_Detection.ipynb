{
  "nbformat": 4,
  "nbformat_minor": 0,
  "metadata": {
    "anaconda-cloud": {},
    "kernelspec": {
      "display_name": "Python 3",
      "language": "python",
      "name": "python3"
    },
    "language_info": {
      "codemirror_mode": {
        "name": "ipython",
        "version": 3
      },
      "file_extension": ".py",
      "mimetype": "text/x-python",
      "name": "python",
      "nbconvert_exporter": "python",
      "pygments_lexer": "ipython3",
      "version": "3.6.1"
    },
    "colab": {
      "name": "Project_3_Automated_Breast_Cancer_Detection.ipynb",
      "provenance": [],
      "collapsed_sections": [],
      "toc_visible": true
    }
  },
  "cells": [
    {
      "cell_type": "markdown",
      "metadata": {
        "id": "nDnAoV0z_KcO"
      },
      "source": [
        "Import libraries:"
      ]
    },
    {
      "cell_type": "code",
      "metadata": {
        "id": "QyVe_vDn_KcO"
      },
      "source": [
        "import numpy as np\n",
        "import pandas as pd\n",
        "import matplotlib\n",
        "import matplotlib.pyplot as plt\n",
        "from sklearn.linear_model import LogisticRegressionCV\n",
        "import sklearn.metrics as metrics\n",
        "from sklearn.preprocessing import PolynomialFeatures\n",
        "from sklearn.discriminant_analysis import LinearDiscriminantAnalysis\n",
        "from sklearn.discriminant_analysis import QuadraticDiscriminantAnalysis\n",
        "from sklearn.neighbors import KNeighborsClassifier\n",
        "from sklearn.tree import DecisionTreeClassifier\n",
        "from sklearn.model_selection import cross_val_score\n",
        "from sklearn.metrics import accuracy_score\n",
        "\n",
        "from sklearn.tree import export_graphviz\n",
        "from IPython.display import Image\n",
        "from IPython.display import display\n",
        "%matplotlib inline"
      ],
      "execution_count": null,
      "outputs": []
    },
    {
      "cell_type": "markdown",
      "metadata": {
        "id": "iG-8_G3G_on5"
      },
      "source": [
        "Data\n",
        "1. [hw6_dataset.csv](https://drive.google.com/file/d/181asSju1ILeAEqNCLh1qgYi-CP6RFo7M/view?usp=sharing)\n",
        "2. [hw6_dataset_missing.csv](https://drive.google.com/file/d/14JVTe06qCzouWSxatUFdJtOxvlfrFk7e/view?usp=sharing)"
      ]
    },
    {
      "cell_type": "code",
      "metadata": {
        "colab": {
          "base_uri": "https://localhost:8080/"
        },
        "id": "PYYO4_gKM_Gh",
        "outputId": "075d64b4-0d3b-4790-c2d4-6d6259c8e07b"
      },
      "source": [
        "from google.colab import drive\n",
        "drive.mount('/content/drive')"
      ],
      "execution_count": null,
      "outputs": [
        {
          "output_type": "stream",
          "text": [
            "Mounted at /content/drive\n"
          ],
          "name": "stdout"
        }
      ]
    },
    {
      "cell_type": "markdown",
      "metadata": {
        "id": "EtRI-M-4_KcQ"
      },
      "source": [
        "## Automated Breast Cancer Detection\n",
        "\n",
        "In this homework, we will consider the problem of early breast cancer detection from X-ray images. Specifically, given a candidate region of interest (ROI) from an X-ray image of a patient's breast, the goal is to predict if the region corresponds to a malignant tumor (label 1) or is normal (label 0). The training and test data sets for this problem is provided in the file `hw6_dataset.csv`. Each row in these files corresponds to a ROI in a patient's X-ray, with columns 1-117 containing features computed using standard image processing algorithms. The last column contains the class label, and is based on a radiologist's opinion or a biopsy. This data was obtained from the KDD Cup 2008 challenge.\n",
        "\n",
        "The data set contain a total of 69,098 candidate ROIs, of which only 409 are malignant, while the remaining are all normal. \n",
        "\n",
        "*Note*: be careful of reading/treating column names and row names in this data set."
      ]
    },
    {
      "cell_type": "markdown",
      "metadata": {
        "id": "6PslzEmF_KcQ"
      },
      "source": [
        "## Question 1: Beyond Classification Accuracy\n",
        "\n",
        "\n",
        "0.  Split the data set into a training set and a testing set.  The training set should be 75% of the original data set, and the testing set 25%.  Use `np.random.seed(9001)`.\n",
        "\n",
        "1. Fit a logistic regression classifier to the training set and report the  accuracy of the classifier on the test set. You should use $L_2$ regularization in logistic regression, with the regularization parameter tuned using cross-validation. \n",
        "    1. How does the fitted model compare with a classifier that predicts 'normal' (label 0) on all patients? \n",
        "    2. Do you think the difference in the classification accuracies are large enough to declare logistic regression as a better classifier than the all 0's classifier? Why or why not?\n",
        "    \n",
        "For applications with imbalanced class labels, in this case when there are many more healthy subjects ($Y=0$) than those with cancer ($Y=1$), the classification accuracy may not be the best metric to evaluate a classifier's performance. As an alternative, we could analyze the confusion table for the classifier. \n",
        "\n",
        "<ol start=\"3\">\n",
        "<li> Compute the confusion table for both the fitted classifier and the classifier that predicts all 0's.</li>\n",
        "<li> Using the entries of the confusion table compute the *true positive rate* and the *true negative rate* for the two classifiers. Explain what these evaluation metrics mean for the specific task of cancer detection. Based on the observed metrics, comment on whether the fitted model is better than the all 0's classifier.</li>\n",
        "<li> What is the *false positive rate* of the fitted classifier, and how is it related to its true positive and true negative rate? Why is a classifier with high false positive rate undesirable for a cancer detection task?</li>\n",
        "</ol>\n",
        "*Hint:* You may use the `metrics.confusion_matrix` function to compute the confusion matrix for a classification model."
      ]
    },
    {
      "cell_type": "code",
      "metadata": {
        "colab": {
          "base_uri": "https://localhost:8080/"
        },
        "id": "r0ezHrAFXzpV",
        "outputId": "fcf61008-0de1-4feb-debe-9c851ad8ff58"
      },
      "source": [
        "from sklearn.linear_model import LogisticRegressionCV\n",
        "from sklearn.model_selection import train_test_split\n",
        "import numpy as np\n",
        "import pandas as pd\n",
        "from sklearn.metrics import accuracy_score\n",
        "import random \n",
        "random.seed(9001)\n",
        "df= pd.read_csv('/content/drive/MyDrive/###Submissions/Intro to Data Science/module_15 & 16/hw6_dataset.csv')\n",
        "print(df.shape)\n",
        "y = df[df.columns[-1]]\n",
        "X = df.iloc[:,:-1]\n",
        "print(X.shape)\n",
        "print(y.shape)\n"
      ],
      "execution_count": null,
      "outputs": [
        {
          "output_type": "stream",
          "text": [
            "(69097, 118)\n",
            "(69097, 117)\n",
            "(69097,)\n"
          ],
          "name": "stdout"
        }
      ]
    },
    {
      "cell_type": "code",
      "metadata": {
        "colab": {
          "base_uri": "https://localhost:8080/"
        },
        "id": "aQ7gbfk9cZlx",
        "outputId": "df85f48c-8015-403d-d901-d97830ab20e2"
      },
      "source": [
        "X_train, X_test, y_train, y_test = train_test_split(X, y, test_size=0.33, random_state=9001)\n",
        "\n",
        "clf = LogisticRegressionCV(random_state=9001,max_iter=1000).fit(X_train, y_train)\n",
        "y_pred = clf.predict(X_test)\n",
        "y_zeros = np.zeros(y_pred.shape)\n",
        "print(\"Accuracy for fitted classifier\",accuracy_score(y_test, y_pred))\n",
        "print(\"Accuracy for all zeros classifier\",accuracy_score(y_test, y_zeros))\n"
      ],
      "execution_count": null,
      "outputs": [
        {
          "output_type": "stream",
          "text": [
            "/usr/local/lib/python3.6/dist-packages/sklearn/linear_model/_logistic.py:940: ConvergenceWarning: lbfgs failed to converge (status=1):\n",
            "STOP: TOTAL NO. of ITERATIONS REACHED LIMIT.\n",
            "\n",
            "Increase the number of iterations (max_iter) or scale the data as shown in:\n",
            "    https://scikit-learn.org/stable/modules/preprocessing.html\n",
            "Please also refer to the documentation for alternative solver options:\n",
            "    https://scikit-learn.org/stable/modules/linear_model.html#logistic-regression\n",
            "  extra_warning_msg=_LOGISTIC_SOLVER_CONVERGENCE_MSG)\n",
            "/usr/local/lib/python3.6/dist-packages/sklearn/linear_model/_logistic.py:940: ConvergenceWarning: lbfgs failed to converge (status=1):\n",
            "STOP: TOTAL NO. of ITERATIONS REACHED LIMIT.\n",
            "\n",
            "Increase the number of iterations (max_iter) or scale the data as shown in:\n",
            "    https://scikit-learn.org/stable/modules/preprocessing.html\n",
            "Please also refer to the documentation for alternative solver options:\n",
            "    https://scikit-learn.org/stable/modules/linear_model.html#logistic-regression\n",
            "  extra_warning_msg=_LOGISTIC_SOLVER_CONVERGENCE_MSG)\n",
            "/usr/local/lib/python3.6/dist-packages/sklearn/linear_model/_logistic.py:940: ConvergenceWarning: lbfgs failed to converge (status=1):\n",
            "STOP: TOTAL NO. of ITERATIONS REACHED LIMIT.\n",
            "\n",
            "Increase the number of iterations (max_iter) or scale the data as shown in:\n",
            "    https://scikit-learn.org/stable/modules/preprocessing.html\n",
            "Please also refer to the documentation for alternative solver options:\n",
            "    https://scikit-learn.org/stable/modules/linear_model.html#logistic-regression\n",
            "  extra_warning_msg=_LOGISTIC_SOLVER_CONVERGENCE_MSG)\n",
            "/usr/local/lib/python3.6/dist-packages/sklearn/linear_model/_logistic.py:940: ConvergenceWarning: lbfgs failed to converge (status=1):\n",
            "STOP: TOTAL NO. of ITERATIONS REACHED LIMIT.\n",
            "\n",
            "Increase the number of iterations (max_iter) or scale the data as shown in:\n",
            "    https://scikit-learn.org/stable/modules/preprocessing.html\n",
            "Please also refer to the documentation for alternative solver options:\n",
            "    https://scikit-learn.org/stable/modules/linear_model.html#logistic-regression\n",
            "  extra_warning_msg=_LOGISTIC_SOLVER_CONVERGENCE_MSG)\n",
            "/usr/local/lib/python3.6/dist-packages/sklearn/linear_model/_logistic.py:940: ConvergenceWarning: lbfgs failed to converge (status=1):\n",
            "STOP: TOTAL NO. of ITERATIONS REACHED LIMIT.\n",
            "\n",
            "Increase the number of iterations (max_iter) or scale the data as shown in:\n",
            "    https://scikit-learn.org/stable/modules/preprocessing.html\n",
            "Please also refer to the documentation for alternative solver options:\n",
            "    https://scikit-learn.org/stable/modules/linear_model.html#logistic-regression\n",
            "  extra_warning_msg=_LOGISTIC_SOLVER_CONVERGENCE_MSG)\n",
            "/usr/local/lib/python3.6/dist-packages/sklearn/linear_model/_logistic.py:940: ConvergenceWarning: lbfgs failed to converge (status=1):\n",
            "STOP: TOTAL NO. of ITERATIONS REACHED LIMIT.\n",
            "\n",
            "Increase the number of iterations (max_iter) or scale the data as shown in:\n",
            "    https://scikit-learn.org/stable/modules/preprocessing.html\n",
            "Please also refer to the documentation for alternative solver options:\n",
            "    https://scikit-learn.org/stable/modules/linear_model.html#logistic-regression\n",
            "  extra_warning_msg=_LOGISTIC_SOLVER_CONVERGENCE_MSG)\n",
            "/usr/local/lib/python3.6/dist-packages/sklearn/linear_model/_logistic.py:940: ConvergenceWarning: lbfgs failed to converge (status=1):\n",
            "STOP: TOTAL NO. of ITERATIONS REACHED LIMIT.\n",
            "\n",
            "Increase the number of iterations (max_iter) or scale the data as shown in:\n",
            "    https://scikit-learn.org/stable/modules/preprocessing.html\n",
            "Please also refer to the documentation for alternative solver options:\n",
            "    https://scikit-learn.org/stable/modules/linear_model.html#logistic-regression\n",
            "  extra_warning_msg=_LOGISTIC_SOLVER_CONVERGENCE_MSG)\n",
            "/usr/local/lib/python3.6/dist-packages/sklearn/linear_model/_logistic.py:940: ConvergenceWarning: lbfgs failed to converge (status=1):\n",
            "STOP: TOTAL NO. of ITERATIONS REACHED LIMIT.\n",
            "\n",
            "Increase the number of iterations (max_iter) or scale the data as shown in:\n",
            "    https://scikit-learn.org/stable/modules/preprocessing.html\n",
            "Please also refer to the documentation for alternative solver options:\n",
            "    https://scikit-learn.org/stable/modules/linear_model.html#logistic-regression\n",
            "  extra_warning_msg=_LOGISTIC_SOLVER_CONVERGENCE_MSG)\n",
            "/usr/local/lib/python3.6/dist-packages/sklearn/linear_model/_logistic.py:940: ConvergenceWarning: lbfgs failed to converge (status=1):\n",
            "STOP: TOTAL NO. of ITERATIONS REACHED LIMIT.\n",
            "\n",
            "Increase the number of iterations (max_iter) or scale the data as shown in:\n",
            "    https://scikit-learn.org/stable/modules/preprocessing.html\n",
            "Please also refer to the documentation for alternative solver options:\n",
            "    https://scikit-learn.org/stable/modules/linear_model.html#logistic-regression\n",
            "  extra_warning_msg=_LOGISTIC_SOLVER_CONVERGENCE_MSG)\n",
            "/usr/local/lib/python3.6/dist-packages/sklearn/linear_model/_logistic.py:940: ConvergenceWarning: lbfgs failed to converge (status=1):\n",
            "STOP: TOTAL NO. of ITERATIONS REACHED LIMIT.\n",
            "\n",
            "Increase the number of iterations (max_iter) or scale the data as shown in:\n",
            "    https://scikit-learn.org/stable/modules/preprocessing.html\n",
            "Please also refer to the documentation for alternative solver options:\n",
            "    https://scikit-learn.org/stable/modules/linear_model.html#logistic-regression\n",
            "  extra_warning_msg=_LOGISTIC_SOLVER_CONVERGENCE_MSG)\n",
            "/usr/local/lib/python3.6/dist-packages/sklearn/linear_model/_logistic.py:940: ConvergenceWarning: lbfgs failed to converge (status=1):\n",
            "STOP: TOTAL NO. of ITERATIONS REACHED LIMIT.\n",
            "\n",
            "Increase the number of iterations (max_iter) or scale the data as shown in:\n",
            "    https://scikit-learn.org/stable/modules/preprocessing.html\n",
            "Please also refer to the documentation for alternative solver options:\n",
            "    https://scikit-learn.org/stable/modules/linear_model.html#logistic-regression\n",
            "  extra_warning_msg=_LOGISTIC_SOLVER_CONVERGENCE_MSG)\n",
            "/usr/local/lib/python3.6/dist-packages/sklearn/linear_model/_logistic.py:940: ConvergenceWarning: lbfgs failed to converge (status=1):\n",
            "STOP: TOTAL NO. of ITERATIONS REACHED LIMIT.\n",
            "\n",
            "Increase the number of iterations (max_iter) or scale the data as shown in:\n",
            "    https://scikit-learn.org/stable/modules/preprocessing.html\n",
            "Please also refer to the documentation for alternative solver options:\n",
            "    https://scikit-learn.org/stable/modules/linear_model.html#logistic-regression\n",
            "  extra_warning_msg=_LOGISTIC_SOLVER_CONVERGENCE_MSG)\n",
            "/usr/local/lib/python3.6/dist-packages/sklearn/linear_model/_logistic.py:940: ConvergenceWarning: lbfgs failed to converge (status=1):\n",
            "STOP: TOTAL NO. of ITERATIONS REACHED LIMIT.\n",
            "\n",
            "Increase the number of iterations (max_iter) or scale the data as shown in:\n",
            "    https://scikit-learn.org/stable/modules/preprocessing.html\n",
            "Please also refer to the documentation for alternative solver options:\n",
            "    https://scikit-learn.org/stable/modules/linear_model.html#logistic-regression\n",
            "  extra_warning_msg=_LOGISTIC_SOLVER_CONVERGENCE_MSG)\n",
            "/usr/local/lib/python3.6/dist-packages/sklearn/linear_model/_logistic.py:940: ConvergenceWarning: lbfgs failed to converge (status=1):\n",
            "STOP: TOTAL NO. of ITERATIONS REACHED LIMIT.\n",
            "\n",
            "Increase the number of iterations (max_iter) or scale the data as shown in:\n",
            "    https://scikit-learn.org/stable/modules/preprocessing.html\n",
            "Please also refer to the documentation for alternative solver options:\n",
            "    https://scikit-learn.org/stable/modules/linear_model.html#logistic-regression\n",
            "  extra_warning_msg=_LOGISTIC_SOLVER_CONVERGENCE_MSG)\n",
            "/usr/local/lib/python3.6/dist-packages/sklearn/linear_model/_logistic.py:940: ConvergenceWarning: lbfgs failed to converge (status=1):\n",
            "STOP: TOTAL NO. of ITERATIONS REACHED LIMIT.\n",
            "\n",
            "Increase the number of iterations (max_iter) or scale the data as shown in:\n",
            "    https://scikit-learn.org/stable/modules/preprocessing.html\n",
            "Please also refer to the documentation for alternative solver options:\n",
            "    https://scikit-learn.org/stable/modules/linear_model.html#logistic-regression\n",
            "  extra_warning_msg=_LOGISTIC_SOLVER_CONVERGENCE_MSG)\n"
          ],
          "name": "stderr"
        },
        {
          "output_type": "stream",
          "text": [
            "Accuracy for fitted classifier 0.9955707582335658\n",
            "Accuracy for all zeros classifier 0.9946059728983029\n"
          ],
          "name": "stdout"
        }
      ]
    },
    {
      "cell_type": "code",
      "metadata": {
        "colab": {
          "base_uri": "https://localhost:8080/",
          "height": 282
        },
        "id": "1zUDbOUJeD_Z",
        "outputId": "0c8b4d9e-8257-4320-db1e-778aa5dcf6f7"
      },
      "source": [
        "y_train.plot.hist()"
      ],
      "execution_count": null,
      "outputs": [
        {
          "output_type": "execute_result",
          "data": {
            "text/plain": [
              "<matplotlib.axes._subplots.AxesSubplot at 0x7f11a953ac18>"
            ]
          },
          "metadata": {
            "tags": []
          },
          "execution_count": 5
        },
        {
          "output_type": "display_data",
          "data": {
            "image/png": "[encoded data removed]",
            "text/plain": [
              "<Figure size 432x288 with 1 Axes>"
            ]
          },
          "metadata": {
            "tags": [],
            "needs_background": "light"
          }
        }
      ]
    },
    {
      "cell_type": "markdown",
      "metadata": {
        "id": "3rmcrBwrUtrU"
      },
      "source": [
        "###Q1.\n",
        "The fitted model is better than all zeroes classifier because from its confusion matrix we can tell it can predict persons with cancer upto some extent rather than labeling everyone as non-cancer patient\n"
      ]
    },
    {
      "cell_type": "markdown",
      "metadata": {
        "id": "OYmU5EDSVVhd"
      },
      "source": [
        "###Q2.\n",
        "Looking at only accuracy we can't tell that logistic regression is better than all zeroes classifier . but looking at confusion matrix proves this wrong.. hence in this condition where there is severe imbalance for judging which is better\n"
      ]
    },
    {
      "cell_type": "markdown",
      "metadata": {
        "id": "PozWPH6MeWSV"
      },
      "source": [
        "\n",
        "if we look at \n",
        "```\n",
        "Accuracy for fitted classifier 0.9955707582335658\n",
        "Accuracy for all zeros classifier 0.9946059728983029\n",
        "```\n",
        "Accuracy for fitted classifier is only a little better than the all zeros classifier.\n",
        "\n",
        "Therefore we look at the confustion matrix to see the score results.\n"
      ]
    },
    {
      "cell_type": "markdown",
      "metadata": {
        "id": "uq4iQeL-V62d"
      },
      "source": [
        "###Q3.\n",
        "Below is the confusion matrix\n"
      ]
    },
    {
      "cell_type": "code",
      "metadata": {
        "colab": {
          "base_uri": "https://localhost:8080/"
        },
        "id": "_gUTqK5Veljb",
        "outputId": "735c135f-5e60-4ce4-eba6-e4c50e3697a5"
      },
      "source": [
        "from sklearn.metrics import confusion_matrix\n",
        "\n",
        "\n",
        "print(\"Confusion Matrix for fitted classifier\")\n",
        "print(confusion_matrix(y_test, y_pred))\n",
        "\n",
        "\n",
        "print(\"Confusion Matrix for all 0's classifier\")\n",
        "print(confusion_matrix(y_test, y_zeros))"
      ],
      "execution_count": null,
      "outputs": [
        {
          "output_type": "stream",
          "text": [
            "Confusion Matrix for fitted classifier\n",
            "[[22670    10]\n",
            " [   91    32]]\n",
            "Confusion Matrix for all 0's classifier\n",
            "[[22680     0]\n",
            " [  123     0]]\n"
          ],
          "name": "stdout"
        }
      ]
    },
    {
      "cell_type": "code",
      "metadata": {
        "colab": {
          "base_uri": "https://localhost:8080/"
        },
        "id": "EwRYtvsOiCmt",
        "outputId": "dbd5d3bc-e8c9-419e-d5fd-3dbe991abc5b"
      },
      "source": [
        "tp = confusion_matrix(y_test, y_pred)[0][0]\n",
        "fp = confusion_matrix(y_test, y_pred)[0][1]\n",
        "tn = confusion_matrix(y_test, y_pred)[1][1]\n",
        "fn = confusion_matrix(y_test, y_pred)[1][0]\n",
        "\n",
        "tpr = tp/(tp+fn)\n",
        "tnr = tn/(tn+fp)\n",
        "fpr = fp/(fp+tn)\n",
        "print(\"True Positive rate for fitted : \",tpr)\n",
        "print(\"True Negetive rate for fitted : \",tnr)\n",
        "print(\"False Positive rate for fitted : \",fpr)\n",
        "\n",
        "tp = confusion_matrix(y_test, y_zeros)[0][0]\n",
        "fp = confusion_matrix(y_test, y_zeros)[0][1]\n",
        "tn = confusion_matrix(y_test, y_zeros)[1][1]\n",
        "fn = confusion_matrix(y_test, y_zeros)[1][0]\n",
        "\n",
        "tpr = tp/(tp+fn)\n",
        "tnr = tn/(tn+fp)\n",
        "fpr = fp/(fp+tn)\n",
        "print(\"True Positive rate for all 0's : \",tpr)\n",
        "print(\"True Negetive rate for all 0's : \",tnr)\n",
        "print(\"False Positive rate for all 0's : \",fpr)"
      ],
      "execution_count": null,
      "outputs": [
        {
          "output_type": "stream",
          "text": [
            "True Positive rate for fitted :  0.9960019331312332\n",
            "True Negetive rate for fitted :  0.7619047619047619\n",
            "False Positive rate for fitted :  0.23809523809523808\n",
            "True Positive rate for all 0's :  0.9946059728983029\n",
            "True Negetive rate for all 0's :  nan\n",
            "False Positive rate for all 0's :  nan\n"
          ],
          "name": "stdout"
        },
        {
          "output_type": "stream",
          "text": [
            "/usr/local/lib/python3.6/dist-packages/ipykernel_launcher.py:19: RuntimeWarning: invalid value encountered in long_scalars\n",
            "/usr/local/lib/python3.6/dist-packages/ipykernel_launcher.py:20: RuntimeWarning: invalid value encountered in long_scalars\n"
          ],
          "name": "stderr"
        }
      ]
    },
    {
      "cell_type": "markdown",
      "metadata": {
        "id": "P6GPXwYRWW5R"
      },
      "source": [
        "###Q4.\n",
        "True positive rate and true negative rate are as above.\n",
        "true positive and true negative tell us the number of samples in which model performs correctly,false positive and false negative show the cases where it fails.<br>\n",
        "True positive rate is ratio of true positives to sum of true positive and false negative and is called the **Sensitivity** it tells us the proportion of samples that are positive and are prediceted positive.<br>\n",
        "True negative rate is the ratio of true negatives to sum of true negative and false positive and is called **Specificity** it tells us the proportion of samples that are negative and are predicetd negative."
      ]
    },
    {
      "cell_type": "markdown",
      "metadata": {
        "id": "2I_CrWwrX-l7"
      },
      "source": [
        "As we can observe, the sensitivity of fitted model is better than the sensitivity of all 0's model. hence the fitted model is better.\n",
        "Although the specificity is high for all zeros model , it is worse than fitted model because it is not labelling in the first place to calculate true negative rate."
      ]
    },
    {
      "cell_type": "markdown",
      "metadata": {
        "id": "_A9rGnb6YKJm"
      },
      "source": [
        "###Q5.\n",
        "False positive rate = 1 - true negative rate  [ $ FPR= 1-TNR $ ]<br>\n",
        "It indicates it is predicetd that the patient is having cancer but in reality he is not having cancer. Such type of results can create panic in patient.<br>\n",
        "It is undesirable with high false positive rate because it is not accuarte and indicates that the test failes very rarely but actually the reult is exactly opposite.\n"
      ]
    },
    {
      "cell_type": "markdown",
      "metadata": {
        "collapsed": true,
        "id": "TU7eL9gk_KcR"
      },
      "source": [
        "## (Optional) Question 2: Missing data\n",
        "\n",
        "In this problem you are given a different data set, `hw6_dataset_missing.csv`, that is  similar to the one you used above (same column definitions and same conditions), however this data set contains missing values. \n",
        "\n",
        "*Note*: be careful of reading/treating column names and row names in this data set as well, it *may* be different than the first data set.\n",
        "\n",
        "\n",
        "1. Remove all observations that contain and missing values, split the dataset into a 75-25 train-test split, and fit the regularized logistic regression as in Question 1 (use `LogisticRegressionCV` again to retune).  Report the overall classification rate and TPR in the test set.\n",
        "2. Restart with a fresh copy of the data in `hw6_dataset_missing.csv` and impute the missing data via mean imputation.  Split the data 75-25 and fit the regularized logistic regression model.  Report the overall classification rate and TPR in the test set.  \n",
        "3. Again restart with a fresh copy of the data in `hw6_dataset_missing.csv` and impute the missing data via a model-based imputation method. Once again split the data 75-25 and fit the regularized logistic regression model.  Report the overall classification rate and TPR in the test set.  \n",
        "4. Compare the results in the 3 previous parts of this problem.  Prepare a paragraph (5-6 sentences) discussing the results, the computational complexity of the methods, and conjecture and explain why you get the results that you see.\n",
        "\n"
      ]
    },
    {
      "cell_type": "markdown",
      "metadata": {
        "id": "J221-qfSaVfE"
      },
      "source": [
        "###1.Removing missing values"
      ]
    },
    {
      "cell_type": "code",
      "metadata": {
        "colab": {
          "base_uri": "https://localhost:8080/"
        },
        "id": "rBT5yh3AlzZg",
        "outputId": "e6707084-a4c8-4d67-8b38-b8913aa61150"
      },
      "source": [
        "\n",
        "from sklearn.linear_model import LogisticRegressionCV\n",
        "from sklearn.model_selection import train_test_split\n",
        "import numpy as np\n",
        "import pandas as pd\n",
        "from sklearn.metrics import accuracy_score\n",
        "import random \n",
        "random.seed(9001)\n",
        "df= pd.read_csv('/content/drive/MyDrive/###Submissions/Intro to Data Science/module_15 & 16/HW6_dataset_missing.csv')\n",
        "print(df.shape)\n",
        "cols_with_missing = [col for col in df.columns\n",
        "  if df[col].isnull().any()]\n",
        "\n",
        "# Drop columns in training and validation data\n",
        "df = df.drop(cols_with_missing, axis=1)\n",
        "#reduced_X_valid = X_valid.drop(cols_with_missing, axis=1)\n",
        "\n",
        "\n",
        "\n",
        "y = df[df.columns[-1]]\n",
        "X = df.iloc[:,:-1]\n",
        "print(X.shape)\n",
        "print(y.shape)\n",
        "\n",
        "X_train, X_test, y_train, y_test = train_test_split(\n",
        "    X, y, test_size=0.33, random_state=9001)\n",
        "\n",
        "clf = LogisticRegressionCV(random_state=9001,max_iter=200).fit(X_train, y_train)\n",
        "y_pred = clf.predict(X_test)\n",
        "y_zeros = np.zeros(y_pred.shape)\n",
        "print(\"Accuracy for fitted classifier\",accuracy_score(y_test, y_pred))\n",
        "print(\"Accuracy for all zeros classifier\",accuracy_score(y_test, y_zeros))\n",
        "\n",
        "print(\"Confusion Matrix for fitted classifier\")\n",
        "print(confusion_matrix(y_test, y_pred))\n",
        "\n",
        "print(\"Confusion Matrix for all 0's classifier\")\n",
        "print(confusion_matrix(y_test, y_zeros))\n",
        "\n",
        "tp = confusion_matrix(y_test, y_pred)[0][0]\n",
        "fp = confusion_matrix(y_test, y_pred)[0][1]\n",
        "tn = confusion_matrix(y_test, y_pred)[1][1]\n",
        "fn = confusion_matrix(y_test, y_pred)[1][0]\n",
        "\n",
        "tpr = tp/(tp+fn)\n",
        "tnr = tn/(tn+fp)\n",
        "fpr = fp/(fp+tn)\n",
        "print(\"True Positive rate for fitted : \",tpr)\n",
        "print(\"True Negetive rate for fitted : \",tnr)\n",
        "print(\"False Positive rate for fitted : \",fpr)\n",
        "\n",
        "tp = confusion_matrix(y_test, y_zeros)[0][0]\n",
        "fp = confusion_matrix(y_test, y_zeros)[0][1]\n",
        "tn = confusion_matrix(y_test, y_zeros)[1][1]\n",
        "fn = confusion_matrix(y_test, y_zeros)[1][0]\n",
        "\n",
        "tpr = tp/(tp+fn)\n",
        "tnr = tn/(tn+fp)\n",
        "fpr = fp/(fp+tn)\n",
        "print(\"True Positive rate for all 0's : \",tpr)\n",
        "print(\"True Negetive rate for all 0's : \",tnr)\n",
        "print(\"False Positive rate for all 0's : \",fpr)\n"
      ],
      "execution_count": null,
      "outputs": [
        {
          "output_type": "stream",
          "text": [
            "(24999, 119)\n",
            "(24999, 101)\n",
            "(24999,)\n"
          ],
          "name": "stdout"
        },
        {
          "output_type": "stream",
          "text": [
            "/usr/local/lib/python3.6/dist-packages/sklearn/linear_model/_logistic.py:940: ConvergenceWarning: lbfgs failed to converge (status=1):\n",
            "STOP: TOTAL NO. of ITERATIONS REACHED LIMIT.\n",
            "\n",
            "Increase the number of iterations (max_iter) or scale the data as shown in:\n",
            "    https://scikit-learn.org/stable/modules/preprocessing.html\n",
            "Please also refer to the documentation for alternative solver options:\n",
            "    https://scikit-learn.org/stable/modules/linear_model.html#logistic-regression\n",
            "  extra_warning_msg=_LOGISTIC_SOLVER_CONVERGENCE_MSG)\n",
            "/usr/local/lib/python3.6/dist-packages/sklearn/linear_model/_logistic.py:940: ConvergenceWarning: lbfgs failed to converge (status=1):\n",
            "STOP: TOTAL NO. of ITERATIONS REACHED LIMIT.\n",
            "\n",
            "Increase the number of iterations (max_iter) or scale the data as shown in:\n",
            "    https://scikit-learn.org/stable/modules/preprocessing.html\n",
            "Please also refer to the documentation for alternative solver options:\n",
            "    https://scikit-learn.org/stable/modules/linear_model.html#logistic-regression\n",
            "  extra_warning_msg=_LOGISTIC_SOLVER_CONVERGENCE_MSG)\n",
            "/usr/local/lib/python3.6/dist-packages/sklearn/linear_model/_logistic.py:940: ConvergenceWarning: lbfgs failed to converge (status=1):\n",
            "STOP: TOTAL NO. of ITERATIONS REACHED LIMIT.\n",
            "\n",
            "Increase the number of iterations (max_iter) or scale the data as shown in:\n",
            "    https://scikit-learn.org/stable/modules/preprocessing.html\n",
            "Please also refer to the documentation for alternative solver options:\n",
            "    https://scikit-learn.org/stable/modules/linear_model.html#logistic-regression\n",
            "  extra_warning_msg=_LOGISTIC_SOLVER_CONVERGENCE_MSG)\n",
            "/usr/local/lib/python3.6/dist-packages/sklearn/linear_model/_logistic.py:940: ConvergenceWarning: lbfgs failed to converge (status=1):\n",
            "STOP: TOTAL NO. of ITERATIONS REACHED LIMIT.\n",
            "\n",
            "Increase the number of iterations (max_iter) or scale the data as shown in:\n",
            "    https://scikit-learn.org/stable/modules/preprocessing.html\n",
            "Please also refer to the documentation for alternative solver options:\n",
            "    https://scikit-learn.org/stable/modules/linear_model.html#logistic-regression\n",
            "  extra_warning_msg=_LOGISTIC_SOLVER_CONVERGENCE_MSG)\n",
            "/usr/local/lib/python3.6/dist-packages/sklearn/linear_model/_logistic.py:940: ConvergenceWarning: lbfgs failed to converge (status=1):\n",
            "STOP: TOTAL NO. of ITERATIONS REACHED LIMIT.\n",
            "\n",
            "Increase the number of iterations (max_iter) or scale the data as shown in:\n",
            "    https://scikit-learn.org/stable/modules/preprocessing.html\n",
            "Please also refer to the documentation for alternative solver options:\n",
            "    https://scikit-learn.org/stable/modules/linear_model.html#logistic-regression\n",
            "  extra_warning_msg=_LOGISTIC_SOLVER_CONVERGENCE_MSG)\n",
            "/usr/local/lib/python3.6/dist-packages/sklearn/linear_model/_logistic.py:940: ConvergenceWarning: lbfgs failed to converge (status=1):\n",
            "STOP: TOTAL NO. of ITERATIONS REACHED LIMIT.\n",
            "\n",
            "Increase the number of iterations (max_iter) or scale the data as shown in:\n",
            "    https://scikit-learn.org/stable/modules/preprocessing.html\n",
            "Please also refer to the documentation for alternative solver options:\n",
            "    https://scikit-learn.org/stable/modules/linear_model.html#logistic-regression\n",
            "  extra_warning_msg=_LOGISTIC_SOLVER_CONVERGENCE_MSG)\n",
            "/usr/local/lib/python3.6/dist-packages/sklearn/linear_model/_logistic.py:940: ConvergenceWarning: lbfgs failed to converge (status=1):\n",
            "STOP: TOTAL NO. of ITERATIONS REACHED LIMIT.\n",
            "\n",
            "Increase the number of iterations (max_iter) or scale the data as shown in:\n",
            "    https://scikit-learn.org/stable/modules/preprocessing.html\n",
            "Please also refer to the documentation for alternative solver options:\n",
            "    https://scikit-learn.org/stable/modules/linear_model.html#logistic-regression\n",
            "  extra_warning_msg=_LOGISTIC_SOLVER_CONVERGENCE_MSG)\n",
            "/usr/local/lib/python3.6/dist-packages/sklearn/linear_model/_logistic.py:940: ConvergenceWarning: lbfgs failed to converge (status=1):\n",
            "STOP: TOTAL NO. of ITERATIONS REACHED LIMIT.\n",
            "\n",
            "Increase the number of iterations (max_iter) or scale the data as shown in:\n",
            "    https://scikit-learn.org/stable/modules/preprocessing.html\n",
            "Please also refer to the documentation for alternative solver options:\n",
            "    https://scikit-learn.org/stable/modules/linear_model.html#logistic-regression\n",
            "  extra_warning_msg=_LOGISTIC_SOLVER_CONVERGENCE_MSG)\n",
            "/usr/local/lib/python3.6/dist-packages/sklearn/linear_model/_logistic.py:940: ConvergenceWarning: lbfgs failed to converge (status=1):\n",
            "STOP: TOTAL NO. of ITERATIONS REACHED LIMIT.\n",
            "\n",
            "Increase the number of iterations (max_iter) or scale the data as shown in:\n",
            "    https://scikit-learn.org/stable/modules/preprocessing.html\n",
            "Please also refer to the documentation for alternative solver options:\n",
            "    https://scikit-learn.org/stable/modules/linear_model.html#logistic-regression\n",
            "  extra_warning_msg=_LOGISTIC_SOLVER_CONVERGENCE_MSG)\n"
          ],
          "name": "stderr"
        },
        {
          "output_type": "stream",
          "text": [
            "Accuracy for fitted classifier 0.9951515151515151\n",
            "Accuracy for all zeros classifier 0.9941818181818182\n",
            "Confusion Matrix for fitted classifier\n",
            "[[8200    2]\n",
            " [  38   10]]\n",
            "Confusion Matrix for all 0's classifier\n",
            "[[8202    0]\n",
            " [  48    0]]\n",
            "True Positive rate for fitted :  0.9953872299101724\n",
            "True Negetive rate for fitted :  0.8333333333333334\n",
            "False Positive rate for fitted :  0.16666666666666666\n",
            "True Positive rate for all 0's :  0.9941818181818182\n",
            "True Negetive rate for all 0's :  nan\n",
            "False Positive rate for all 0's :  nan\n"
          ],
          "name": "stdout"
        },
        {
          "output_type": "stream",
          "text": [
            "/usr/local/lib/python3.6/dist-packages/ipykernel_launcher.py:58: RuntimeWarning: invalid value encountered in long_scalars\n",
            "/usr/local/lib/python3.6/dist-packages/ipykernel_launcher.py:59: RuntimeWarning: invalid value encountered in long_scalars\n"
          ],
          "name": "stderr"
        }
      ]
    },
    {
      "cell_type": "markdown",
      "metadata": {
        "id": "M7erANLlabn0"
      },
      "source": [
        "###2.Using mean imputer to recreate the data in missing values"
      ]
    },
    {
      "cell_type": "code",
      "metadata": {
        "colab": {
          "base_uri": "https://localhost:8080/"
        },
        "id": "kmNmArt9mWeA",
        "outputId": "212466f7-eb35-49ff-a26f-b8bcbba80f2f"
      },
      "source": [
        "from sklearn.impute import SimpleImputer\n",
        "df= pd.read_csv('/content/drive/MyDrive/###Submissions/Intro to Data Science/module_15 & 16/HW6_dataset_missing.csv')\n",
        "\n",
        "y = df[df.columns[-1]]\n",
        "X = df.iloc[:,:-1]\n",
        "\n",
        "X_train, X_test, y_train, y_test = train_test_split(\n",
        "    X, y, test_size=0.33, random_state=9001)\n",
        "\n",
        "\n",
        "\n",
        "# Imputation\n",
        "my_imputer = SimpleImputer(strategy='mean')\n",
        "imputed_X_train = pd.DataFrame(my_imputer.fit_transform(X_train))\n",
        "imputed_X_test = pd.DataFrame(my_imputer.transform(X_test))\n",
        "\n",
        "clf = LogisticRegressionCV(random_state=9001,max_iter=200).fit(imputed_X_train, y_train)\n",
        "y_pred = clf.predict(imputed_X_test)\n",
        "y_zeros = np.zeros(y_pred.shape)\n",
        "print(\"Accuracy for fitted classifier\",accuracy_score(y_test, y_pred))\n",
        "print(\"Accuracy for all zeros classifier\",accuracy_score(y_test, y_zeros))\n",
        "\n",
        "print(\"Confusion Matrix for fitted classifier\")\n",
        "print(confusion_matrix(y_test, y_pred))\n",
        "\n",
        "print(\"Confusion Matrix for all 0's classifier\")\n",
        "print(confusion_matrix(y_test, y_zeros))\n",
        "\n",
        "tp = confusion_matrix(y_test, y_pred)[0][0]\n",
        "fp = confusion_matrix(y_test, y_pred)[0][1]\n",
        "tn = confusion_matrix(y_test, y_pred)[1][1]\n",
        "fn = confusion_matrix(y_test, y_pred)[1][0]\n",
        "\n",
        "tpr = tp/(tp+fn)\n",
        "tnr = tn/(tn+fp)\n",
        "fpr = fp/(fp+tn)\n",
        "print(\"True Positive rate for fitted : \",tpr)\n",
        "print(\"True Negetive rate for fitted : \",tnr)\n",
        "print(\"False Positive rate for fitted : \",fpr)\n",
        "\n",
        "tp = confusion_matrix(y_test, y_zeros)[0][0]\n",
        "fp = confusion_matrix(y_test, y_zeros)[0][1]\n",
        "tn = confusion_matrix(y_test, y_zeros)[1][1]\n",
        "fn = confusion_matrix(y_test, y_zeros)[1][0]\n",
        "\n",
        "tpr = tp/(tp+fn)\n",
        "tnr = tn/(tn+fp)\n",
        "fpr = fp/(fp+tn)\n",
        "print(\"True Positive rate for all 0's : \",tpr)\n",
        "print(\"True Negetive rate for all 0's : \",tnr)\n",
        "print(\"False Positive rate for all 0's : \",fpr)\n"
      ],
      "execution_count": null,
      "outputs": [
        {
          "output_type": "stream",
          "text": [
            "/usr/local/lib/python3.6/dist-packages/sklearn/linear_model/_logistic.py:940: ConvergenceWarning: lbfgs failed to converge (status=1):\n",
            "STOP: TOTAL NO. of ITERATIONS REACHED LIMIT.\n",
            "\n",
            "Increase the number of iterations (max_iter) or scale the data as shown in:\n",
            "    https://scikit-learn.org/stable/modules/preprocessing.html\n",
            "Please also refer to the documentation for alternative solver options:\n",
            "    https://scikit-learn.org/stable/modules/linear_model.html#logistic-regression\n",
            "  extra_warning_msg=_LOGISTIC_SOLVER_CONVERGENCE_MSG)\n",
            "/usr/local/lib/python3.6/dist-packages/sklearn/linear_model/_logistic.py:940: ConvergenceWarning: lbfgs failed to converge (status=1):\n",
            "STOP: TOTAL NO. of ITERATIONS REACHED LIMIT.\n",
            "\n",
            "Increase the number of iterations (max_iter) or scale the data as shown in:\n",
            "    https://scikit-learn.org/stable/modules/preprocessing.html\n",
            "Please also refer to the documentation for alternative solver options:\n",
            "    https://scikit-learn.org/stable/modules/linear_model.html#logistic-regression\n",
            "  extra_warning_msg=_LOGISTIC_SOLVER_CONVERGENCE_MSG)\n",
            "/usr/local/lib/python3.6/dist-packages/sklearn/linear_model/_logistic.py:940: ConvergenceWarning: lbfgs failed to converge (status=1):\n",
            "STOP: TOTAL NO. of ITERATIONS REACHED LIMIT.\n",
            "\n",
            "Increase the number of iterations (max_iter) or scale the data as shown in:\n",
            "    https://scikit-learn.org/stable/modules/preprocessing.html\n",
            "Please also refer to the documentation for alternative solver options:\n",
            "    https://scikit-learn.org/stable/modules/linear_model.html#logistic-regression\n",
            "  extra_warning_msg=_LOGISTIC_SOLVER_CONVERGENCE_MSG)\n",
            "/usr/local/lib/python3.6/dist-packages/sklearn/linear_model/_logistic.py:940: ConvergenceWarning: lbfgs failed to converge (status=1):\n",
            "STOP: TOTAL NO. of ITERATIONS REACHED LIMIT.\n",
            "\n",
            "Increase the number of iterations (max_iter) or scale the data as shown in:\n",
            "    https://scikit-learn.org/stable/modules/preprocessing.html\n",
            "Please also refer to the documentation for alternative solver options:\n",
            "    https://scikit-learn.org/stable/modules/linear_model.html#logistic-regression\n",
            "  extra_warning_msg=_LOGISTIC_SOLVER_CONVERGENCE_MSG)\n",
            "/usr/local/lib/python3.6/dist-packages/sklearn/linear_model/_logistic.py:940: ConvergenceWarning: lbfgs failed to converge (status=1):\n",
            "STOP: TOTAL NO. of ITERATIONS REACHED LIMIT.\n",
            "\n",
            "Increase the number of iterations (max_iter) or scale the data as shown in:\n",
            "    https://scikit-learn.org/stable/modules/preprocessing.html\n",
            "Please also refer to the documentation for alternative solver options:\n",
            "    https://scikit-learn.org/stable/modules/linear_model.html#logistic-regression\n",
            "  extra_warning_msg=_LOGISTIC_SOLVER_CONVERGENCE_MSG)\n",
            "/usr/local/lib/python3.6/dist-packages/sklearn/linear_model/_logistic.py:940: ConvergenceWarning: lbfgs failed to converge (status=1):\n",
            "STOP: TOTAL NO. of ITERATIONS REACHED LIMIT.\n",
            "\n",
            "Increase the number of iterations (max_iter) or scale the data as shown in:\n",
            "    https://scikit-learn.org/stable/modules/preprocessing.html\n",
            "Please also refer to the documentation for alternative solver options:\n",
            "    https://scikit-learn.org/stable/modules/linear_model.html#logistic-regression\n",
            "  extra_warning_msg=_LOGISTIC_SOLVER_CONVERGENCE_MSG)\n",
            "/usr/local/lib/python3.6/dist-packages/sklearn/linear_model/_logistic.py:940: ConvergenceWarning: lbfgs failed to converge (status=1):\n",
            "STOP: TOTAL NO. of ITERATIONS REACHED LIMIT.\n",
            "\n",
            "Increase the number of iterations (max_iter) or scale the data as shown in:\n",
            "    https://scikit-learn.org/stable/modules/preprocessing.html\n",
            "Please also refer to the documentation for alternative solver options:\n",
            "    https://scikit-learn.org/stable/modules/linear_model.html#logistic-regression\n",
            "  extra_warning_msg=_LOGISTIC_SOLVER_CONVERGENCE_MSG)\n",
            "/usr/local/lib/python3.6/dist-packages/sklearn/linear_model/_logistic.py:940: ConvergenceWarning: lbfgs failed to converge (status=1):\n",
            "STOP: TOTAL NO. of ITERATIONS REACHED LIMIT.\n",
            "\n",
            "Increase the number of iterations (max_iter) or scale the data as shown in:\n",
            "    https://scikit-learn.org/stable/modules/preprocessing.html\n",
            "Please also refer to the documentation for alternative solver options:\n",
            "    https://scikit-learn.org/stable/modules/linear_model.html#logistic-regression\n",
            "  extra_warning_msg=_LOGISTIC_SOLVER_CONVERGENCE_MSG)\n",
            "/usr/local/lib/python3.6/dist-packages/sklearn/linear_model/_logistic.py:940: ConvergenceWarning: lbfgs failed to converge (status=1):\n",
            "STOP: TOTAL NO. of ITERATIONS REACHED LIMIT.\n",
            "\n",
            "Increase the number of iterations (max_iter) or scale the data as shown in:\n",
            "    https://scikit-learn.org/stable/modules/preprocessing.html\n",
            "Please also refer to the documentation for alternative solver options:\n",
            "    https://scikit-learn.org/stable/modules/linear_model.html#logistic-regression\n",
            "  extra_warning_msg=_LOGISTIC_SOLVER_CONVERGENCE_MSG)\n"
          ],
          "name": "stderr"
        },
        {
          "output_type": "stream",
          "text": [
            "Accuracy for fitted classifier 0.9952727272727273\n",
            "Accuracy for all zeros classifier 0.9941818181818182\n",
            "Confusion Matrix for fitted classifier\n",
            "[[8201    1]\n",
            " [  38   10]]\n",
            "Confusion Matrix for all 0's classifier\n",
            "[[8202    0]\n",
            " [  48    0]]\n",
            "True Positive rate for fitted :  0.9953877897803132\n",
            "True Negetive rate for fitted :  0.9090909090909091\n",
            "False Positive rate for fitted :  0.09090909090909091\n",
            "True Positive rate for all 0's :  0.9941818181818182\n",
            "True Negetive rate for all 0's :  nan\n",
            "False Positive rate for all 0's :  nan\n"
          ],
          "name": "stdout"
        },
        {
          "output_type": "stream",
          "text": [
            "/usr/local/lib/python3.6/dist-packages/ipykernel_launcher.py:47: RuntimeWarning: invalid value encountered in long_scalars\n",
            "/usr/local/lib/python3.6/dist-packages/ipykernel_launcher.py:48: RuntimeWarning: invalid value encountered in long_scalars\n"
          ],
          "name": "stderr"
        }
      ]
    },
    {
      "cell_type": "markdown",
      "metadata": {
        "id": "2vfJVTJvajC4"
      },
      "source": [
        "###3.Using complex imputer to fill data in missing fields."
      ]
    },
    {
      "cell_type": "code",
      "metadata": {
        "colab": {
          "base_uri": "https://localhost:8080/"
        },
        "id": "cDXQFhE4oRR6",
        "outputId": "9f543650-f7a0-4b4c-ccf6-9fea9e47f22d"
      },
      "source": [
        "import numpy as np\n",
        "from sklearn.experimental import enable_iterative_imputer\n",
        "from sklearn.impute import IterativeImputer\n",
        "\n",
        "\n",
        "df= pd.read_csv('/content/drive/MyDrive/###Submissions/Intro to Data Science/module_15 & 16/HW6_dataset_missing.csv')\n",
        "\n",
        "y = df[df.columns[-1]]\n",
        "X = df.iloc[:,:-1]\n",
        "\n",
        "X_train, X_test, y_train, y_test = train_test_split(\n",
        "    X, y, test_size=0.33, random_state=9001)\n",
        "\n",
        "\n",
        "\n",
        "# Imputation Model\n",
        "my_imputer = IterativeImputer(max_iter=10, random_state=9001)\n",
        "imputed_X_train = pd.DataFrame(my_imputer.fit_transform(X_train))\n",
        "imputed_X_test = pd.DataFrame(my_imputer.transform(X_test))\n",
        "\n",
        "clf = LogisticRegressionCV(random_state=9001,max_iter=200).fit(imputed_X_train, y_train)\n",
        "y_pred = clf.predict(imputed_X_test)\n",
        "y_zeros = np.zeros(y_pred.shape)\n",
        "print(\"Accuracy for fitted classifier\",accuracy_score(y_test, y_pred))\n",
        "print(\"Accuracy for all zeros classifier\",accuracy_score(y_test, y_zeros))\n",
        "\n",
        "print(\"Confusion Matrix for fitted classifier\")\n",
        "print(confusion_matrix(y_test, y_pred))\n",
        "\n",
        "print(\"Confusion Matrix for all 0's classifier\")\n",
        "print(confusion_matrix(y_test, y_zeros))\n",
        "\n",
        "tp = confusion_matrix(y_test, y_pred)[0][0]\n",
        "fp = confusion_matrix(y_test, y_pred)[0][1]\n",
        "tn = confusion_matrix(y_test, y_pred)[1][1]\n",
        "fn = confusion_matrix(y_test, y_pred)[1][0]\n",
        "\n",
        "tpr = tp/(tp+fn)\n",
        "tnr = tn/(tn+fp)\n",
        "fpr = fp/(fp+tn)\n",
        "print(\"True Positive rate for fitted : \",tpr)\n",
        "print(\"True Negetive rate for fitted : \",tnr)\n",
        "print(\"False Positive rate for fitted : \",fpr)\n",
        "\n",
        "tp = confusion_matrix(y_test, y_zeros)[0][0]\n",
        "fp = confusion_matrix(y_test, y_zeros)[0][1]\n",
        "tn = confusion_matrix(y_test, y_zeros)[1][1]\n",
        "fn = confusion_matrix(y_test, y_zeros)[1][0]\n",
        "\n",
        "tpr = tp/(tp+fn)\n",
        "tnr = tn/(tn+fp)\n",
        "fpr = fp/(fp+tn)\n",
        "print(\"True Positive rate for all 0's : \",tpr)\n",
        "print(\"True Negetive rate for all 0's : \",tnr)\n",
        "print(\"False Positive rate for all 0's : \",fpr)"
      ],
      "execution_count": null,
      "outputs": [
        {
          "output_type": "stream",
          "text": [
            "/usr/local/lib/python3.6/dist-packages/sklearn/linear_model/_logistic.py:940: ConvergenceWarning: lbfgs failed to converge (status=1):\n",
            "STOP: TOTAL NO. of ITERATIONS REACHED LIMIT.\n",
            "\n",
            "Increase the number of iterations (max_iter) or scale the data as shown in:\n",
            "    https://scikit-learn.org/stable/modules/preprocessing.html\n",
            "Please also refer to the documentation for alternative solver options:\n",
            "    https://scikit-learn.org/stable/modules/linear_model.html#logistic-regression\n",
            "  extra_warning_msg=_LOGISTIC_SOLVER_CONVERGENCE_MSG)\n",
            "/usr/local/lib/python3.6/dist-packages/sklearn/linear_model/_logistic.py:940: ConvergenceWarning: lbfgs failed to converge (status=1):\n",
            "STOP: TOTAL NO. of ITERATIONS REACHED LIMIT.\n",
            "\n",
            "Increase the number of iterations (max_iter) or scale the data as shown in:\n",
            "    https://scikit-learn.org/stable/modules/preprocessing.html\n",
            "Please also refer to the documentation for alternative solver options:\n",
            "    https://scikit-learn.org/stable/modules/linear_model.html#logistic-regression\n",
            "  extra_warning_msg=_LOGISTIC_SOLVER_CONVERGENCE_MSG)\n",
            "/usr/local/lib/python3.6/dist-packages/sklearn/linear_model/_logistic.py:940: ConvergenceWarning: lbfgs failed to converge (status=1):\n",
            "STOP: TOTAL NO. of ITERATIONS REACHED LIMIT.\n",
            "\n",
            "Increase the number of iterations (max_iter) or scale the data as shown in:\n",
            "    https://scikit-learn.org/stable/modules/preprocessing.html\n",
            "Please also refer to the documentation for alternative solver options:\n",
            "    https://scikit-learn.org/stable/modules/linear_model.html#logistic-regression\n",
            "  extra_warning_msg=_LOGISTIC_SOLVER_CONVERGENCE_MSG)\n",
            "/usr/local/lib/python3.6/dist-packages/sklearn/linear_model/_logistic.py:940: ConvergenceWarning: lbfgs failed to converge (status=1):\n",
            "STOP: TOTAL NO. of ITERATIONS REACHED LIMIT.\n",
            "\n",
            "Increase the number of iterations (max_iter) or scale the data as shown in:\n",
            "    https://scikit-learn.org/stable/modules/preprocessing.html\n",
            "Please also refer to the documentation for alternative solver options:\n",
            "    https://scikit-learn.org/stable/modules/linear_model.html#logistic-regression\n",
            "  extra_warning_msg=_LOGISTIC_SOLVER_CONVERGENCE_MSG)\n",
            "/usr/local/lib/python3.6/dist-packages/sklearn/linear_model/_logistic.py:940: ConvergenceWarning: lbfgs failed to converge (status=1):\n",
            "STOP: TOTAL NO. of ITERATIONS REACHED LIMIT.\n",
            "\n",
            "Increase the number of iterations (max_iter) or scale the data as shown in:\n",
            "    https://scikit-learn.org/stable/modules/preprocessing.html\n",
            "Please also refer to the documentation for alternative solver options:\n",
            "    https://scikit-learn.org/stable/modules/linear_model.html#logistic-regression\n",
            "  extra_warning_msg=_LOGISTIC_SOLVER_CONVERGENCE_MSG)\n",
            "/usr/local/lib/python3.6/dist-packages/sklearn/linear_model/_logistic.py:940: ConvergenceWarning: lbfgs failed to converge (status=1):\n",
            "STOP: TOTAL NO. of ITERATIONS REACHED LIMIT.\n",
            "\n",
            "Increase the number of iterations (max_iter) or scale the data as shown in:\n",
            "    https://scikit-learn.org/stable/modules/preprocessing.html\n",
            "Please also refer to the documentation for alternative solver options:\n",
            "    https://scikit-learn.org/stable/modules/linear_model.html#logistic-regression\n",
            "  extra_warning_msg=_LOGISTIC_SOLVER_CONVERGENCE_MSG)\n",
            "/usr/local/lib/python3.6/dist-packages/sklearn/linear_model/_logistic.py:940: ConvergenceWarning: lbfgs failed to converge (status=1):\n",
            "STOP: TOTAL NO. of ITERATIONS REACHED LIMIT.\n",
            "\n",
            "Increase the number of iterations (max_iter) or scale the data as shown in:\n",
            "    https://scikit-learn.org/stable/modules/preprocessing.html\n",
            "Please also refer to the documentation for alternative solver options:\n",
            "    https://scikit-learn.org/stable/modules/linear_model.html#logistic-regression\n",
            "  extra_warning_msg=_LOGISTIC_SOLVER_CONVERGENCE_MSG)\n",
            "/usr/local/lib/python3.6/dist-packages/sklearn/linear_model/_logistic.py:940: ConvergenceWarning: lbfgs failed to converge (status=1):\n",
            "STOP: TOTAL NO. of ITERATIONS REACHED LIMIT.\n",
            "\n",
            "Increase the number of iterations (max_iter) or scale the data as shown in:\n",
            "    https://scikit-learn.org/stable/modules/preprocessing.html\n",
            "Please also refer to the documentation for alternative solver options:\n",
            "    https://scikit-learn.org/stable/modules/linear_model.html#logistic-regression\n",
            "  extra_warning_msg=_LOGISTIC_SOLVER_CONVERGENCE_MSG)\n",
            "/usr/local/lib/python3.6/dist-packages/sklearn/linear_model/_logistic.py:940: ConvergenceWarning: lbfgs failed to converge (status=1):\n",
            "STOP: TOTAL NO. of ITERATIONS REACHED LIMIT.\n",
            "\n",
            "Increase the number of iterations (max_iter) or scale the data as shown in:\n",
            "    https://scikit-learn.org/stable/modules/preprocessing.html\n",
            "Please also refer to the documentation for alternative solver options:\n",
            "    https://scikit-learn.org/stable/modules/linear_model.html#logistic-regression\n",
            "  extra_warning_msg=_LOGISTIC_SOLVER_CONVERGENCE_MSG)\n",
            "/usr/local/lib/python3.6/dist-packages/sklearn/linear_model/_logistic.py:940: ConvergenceWarning: lbfgs failed to converge (status=1):\n",
            "STOP: TOTAL NO. of ITERATIONS REACHED LIMIT.\n",
            "\n",
            "Increase the number of iterations (max_iter) or scale the data as shown in:\n",
            "    https://scikit-learn.org/stable/modules/preprocessing.html\n",
            "Please also refer to the documentation for alternative solver options:\n",
            "    https://scikit-learn.org/stable/modules/linear_model.html#logistic-regression\n",
            "  extra_warning_msg=_LOGISTIC_SOLVER_CONVERGENCE_MSG)\n"
          ],
          "name": "stderr"
        },
        {
          "output_type": "stream",
          "text": [
            "Accuracy for fitted classifier 0.9952727272727273\n",
            "Accuracy for all zeros classifier 0.9941818181818182\n",
            "Confusion Matrix for fitted classifier\n",
            "[[8200    2]\n",
            " [  37   11]]\n",
            "Confusion Matrix for all 0's classifier\n",
            "[[8202    0]\n",
            " [  48    0]]\n",
            "True Positive rate for fitted :  0.9955080733276679\n",
            "True Negetive rate for fitted :  0.8461538461538461\n",
            "False Positive rate for fitted :  0.15384615384615385\n",
            "True Positive rate for all 0's :  0.9941818181818182\n",
            "True Negetive rate for all 0's :  nan\n",
            "False Positive rate for all 0's :  nan\n"
          ],
          "name": "stdout"
        },
        {
          "output_type": "stream",
          "text": [
            "/usr/local/lib/python3.6/dist-packages/ipykernel_launcher.py:51: RuntimeWarning: invalid value encountered in long_scalars\n",
            "/usr/local/lib/python3.6/dist-packages/ipykernel_launcher.py:52: RuntimeWarning: invalid value encountered in long_scalars\n"
          ],
          "name": "stderr"
        }
      ]
    }
  ]
}